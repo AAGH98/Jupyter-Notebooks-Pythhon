{
 "cells": [
  {
   "cell_type": "markdown",
   "id": "49f9a255-b6ac-4af9-880a-ee3d58d0600f",
   "metadata": {},
   "source": [
    "# For Loops"
   ]
  },
  {
   "cell_type": "code",
   "execution_count": 2,
   "id": "91681594-db9e-4c7a-99e5-fb33d7e3b45a",
   "metadata": {},
   "outputs": [],
   "source": [
    "integers = [1,2,3,4,5]"
   ]
  },
  {
   "cell_type": "code",
   "execution_count": 4,
   "id": "7820ea82-456c-4b56-ad8b-96da43e733f4",
   "metadata": {},
   "outputs": [
    {
     "name": "stdout",
     "output_type": "stream",
     "text": [
      "1\n",
      "2\n",
      "3\n",
      "4\n",
      "5\n"
     ]
    }
   ],
   "source": [
    "for number in integers :\n",
    "    print(number)"
   ]
  },
  {
   "cell_type": "code",
   "execution_count": null,
   "id": "dc657d63-f1ad-4cdd-9b03-6e27ffc968b6",
   "metadata": {},
   "outputs": [],
   "source": [
    "for number in integers :\n",
    "    print()"
   ]
  },
  {
   "cell_type": "code",
   "execution_count": 12,
   "id": "ec2aa531-c2b9-4114-8684-e3a7b69472d6",
   "metadata": {},
   "outputs": [],
   "source": [
    "ice_cream_dict = {'name': 'Alex', 'weekly intake': 5, 'favourite ice creams': ['MCC', 'Chocolate']}\n",
    "\n"
   ]
  },
  {
   "cell_type": "code",
   "execution_count": 14,
   "id": "ed32a06d-c414-44d2-9a7c-b9597488ae6b",
   "metadata": {},
   "outputs": [
    {
     "name": "stdout",
     "output_type": "stream",
     "text": [
      "Alex\n",
      "5\n",
      "['MCC', 'Chocolate']\n"
     ]
    }
   ],
   "source": [
    "for cream in ice_cream_dict.values():\n",
    "    print(cream)"
   ]
  },
  {
   "cell_type": "code",
   "execution_count": 16,
   "id": "324e6e5e-b59e-4c3f-b5c9-63bab55fa72c",
   "metadata": {},
   "outputs": [
    {
     "name": "stdout",
     "output_type": "stream",
     "text": [
      "name -> Alex\n",
      "weekly intake -> 5\n",
      "favourite ice creams -> ['MCC', 'Chocolate']\n"
     ]
    }
   ],
   "source": [
    "for key, value in ice_cream_dict.items():\n",
    "    print(key,'->', value)"
   ]
  },
  {
   "cell_type": "code",
   "execution_count": null,
   "id": "a8bf9f4d-e9af-4dc1-b342-d6f392f7eb41",
   "metadata": {},
   "outputs": [],
   "source": []
  },
  {
   "cell_type": "code",
   "execution_count": null,
   "id": "f3aa4630-2eb1-4582-8882-b6e9873aaa99",
   "metadata": {},
   "outputs": [],
   "source": []
  },
  {
   "cell_type": "markdown",
   "id": "f0e3a080-6bdd-4da9-9f73-e14a2c2d343e",
   "metadata": {},
   "source": [
    "# Nested For Loops"
   ]
  },
  {
   "cell_type": "code",
   "execution_count": 19,
   "id": "21109341-23ae-486c-af67-09d4be1bd0c0",
   "metadata": {},
   "outputs": [],
   "source": [
    "flavours = ['Vanilla', 'Chocolate', 'Cookie dough']\n",
    "toppings = [ 'Hot fudge', 'oreos', 'Marshmallows'] "
   ]
  },
  {
   "cell_type": "code",
   "execution_count": 21,
   "id": "c78ecd3d-71fd-464e-aa51-b2e293d5926e",
   "metadata": {},
   "outputs": [
    {
     "name": "stdout",
     "output_type": "stream",
     "text": [
      "Vanilla topped with Hot fudge\n",
      "Vanilla topped with oreos\n",
      "Vanilla topped with Marshmallows\n",
      "Chocolate topped with Hot fudge\n",
      "Chocolate topped with oreos\n",
      "Chocolate topped with Marshmallows\n",
      "Cookie dough topped with Hot fudge\n",
      "Cookie dough topped with oreos\n",
      "Cookie dough topped with Marshmallows\n"
     ]
    }
   ],
   "source": [
    "for one in flavours:\n",
    "    for two in toppings:\n",
    "        print(one, 'topped with', two)"
   ]
  },
  {
   "cell_type": "code",
   "execution_count": null,
   "id": "4817a74a-577f-4270-a2d2-3370049ff59e",
   "metadata": {},
   "outputs": [],
   "source": []
  },
  {
   "cell_type": "code",
   "execution_count": null,
   "id": "3b835715-68a6-40dc-aeef-0b81d67d034e",
   "metadata": {},
   "outputs": [],
   "source": []
  },
  {
   "cell_type": "code",
   "execution_count": null,
   "id": "38dbf089-f502-4303-9ee2-4748f8f23d81",
   "metadata": {},
   "outputs": [],
   "source": []
  },
  {
   "cell_type": "code",
   "execution_count": null,
   "id": "e34b388c-8892-4569-8ef5-9b546ac23f25",
   "metadata": {},
   "outputs": [],
   "source": []
  },
  {
   "cell_type": "code",
   "execution_count": null,
   "id": "f3329ab4-4d66-4c5a-964f-c06c465bd0b3",
   "metadata": {},
   "outputs": [],
   "source": []
  }
 ],
 "metadata": {
  "kernelspec": {
   "display_name": "Python 3 (ipykernel)",
   "language": "python",
   "name": "python3"
  },
  "language_info": {
   "codemirror_mode": {
    "name": "ipython",
    "version": 3
   },
   "file_extension": ".py",
   "mimetype": "text/x-python",
   "name": "python",
   "nbconvert_exporter": "python",
   "pygments_lexer": "ipython3",
   "version": "3.12.4"
  }
 },
 "nbformat": 4,
 "nbformat_minor": 5
}
