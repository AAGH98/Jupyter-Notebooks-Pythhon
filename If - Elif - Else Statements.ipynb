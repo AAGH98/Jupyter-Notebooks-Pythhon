{
 "cells": [
  {
   "cell_type": "markdown",
   "id": "80643912-b3cf-4241-bc63-0df5382392db",
   "metadata": {},
   "source": [
    "# If - Elif - Else Statements"
   ]
  },
  {
   "cell_type": "code",
   "execution_count": 6,
   "id": "4e24e962-7d39-44a6-9934-c15d6d6e1685",
   "metadata": {},
   "outputs": [
    {
     "name": "stdout",
     "output_type": "stream",
     "text": [
      "it worked\n"
     ]
    }
   ],
   "source": [
    "if 25> 10:\n",
    "    print('it worked')"
   ]
  },
  {
   "cell_type": "code",
   "execution_count": 12,
   "id": "faabe24a-fe36-40cf-9ba4-554a1b4b45b4",
   "metadata": {},
   "outputs": [
    {
     "name": "stdout",
     "output_type": "stream",
     "text": [
      "it did not work\n"
     ]
    }
   ],
   "source": [
    "if 25< 10:\n",
    "    print('it worked')\n",
    "else:\n",
    "    print('it did not work')"
   ]
  },
  {
   "cell_type": "code",
   "execution_count": 14,
   "id": "a533f4d5-235e-42e5-910a-4952e91ee66d",
   "metadata": {},
   "outputs": [
    {
     "name": "stdout",
     "output_type": "stream",
     "text": [
      "elif worked\n"
     ]
    }
   ],
   "source": [
    "if 25< 10:\n",
    "    print('it worked')\n",
    "elif 25 < 30:\n",
    "    print('elif worked')\n",
    "else:\n",
    "    print('it did not work')"
   ]
  },
  {
   "cell_type": "code",
   "execution_count": 16,
   "id": "a00135d6-d6dd-4265-b8fc-378391965ffd",
   "metadata": {},
   "outputs": [
    {
     "name": "stdout",
     "output_type": "stream",
     "text": [
      " it did not work\n"
     ]
    }
   ],
   "source": [
    "print(' it worked') if 10>30 else print (' it did not work')"
   ]
  },
  {
   "cell_type": "code",
   "execution_count": null,
   "id": "c3c0ff23-8f2a-416f-8f84-24572773a003",
   "metadata": {},
   "outputs": [],
   "source": []
  },
  {
   "cell_type": "code",
   "execution_count": null,
   "id": "6a7e89a5-3b31-4d38-8a75-2bb764ad4819",
   "metadata": {},
   "outputs": [],
   "source": []
  },
  {
   "cell_type": "code",
   "execution_count": null,
   "id": "c4b35de4-3f51-4a1a-9ab0-a0380da3d6aa",
   "metadata": {},
   "outputs": [],
   "source": []
  },
  {
   "cell_type": "code",
   "execution_count": null,
   "id": "8d840edf-f309-4092-8525-ef2b636f1a40",
   "metadata": {},
   "outputs": [],
   "source": []
  },
  {
   "cell_type": "code",
   "execution_count": null,
   "id": "64ce7ee0-f61f-4659-8045-8253403b95a4",
   "metadata": {},
   "outputs": [],
   "source": []
  },
  {
   "cell_type": "code",
   "execution_count": null,
   "id": "2531e914-e73b-4d27-b70c-70d8dd055fd8",
   "metadata": {},
   "outputs": [],
   "source": []
  }
 ],
 "metadata": {
  "kernelspec": {
   "display_name": "Python 3 (ipykernel)",
   "language": "python",
   "name": "python3"
  },
  "language_info": {
   "codemirror_mode": {
    "name": "ipython",
    "version": 3
   },
   "file_extension": ".py",
   "mimetype": "text/x-python",
   "name": "python",
   "nbconvert_exporter": "python",
   "pygments_lexer": "ipython3",
   "version": "3.12.4"
  }
 },
 "nbformat": 4,
 "nbformat_minor": 5
}
